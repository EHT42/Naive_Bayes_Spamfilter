{
 "nbformat": 4,
 "nbformat_minor": 0,
 "metadata": {
  "colab": {
   "provenance": [],
   "mount_file_id": "1m9Qy949bk8sfD8GNZ1XE3YEKXHiNc9pm",
   "authorship_tag": "ABX9TyMMGWAIPhEjSeD01vFrYWh8"
  },
  "kernelspec": {
   "name": "python3",
   "display_name": "Python 3"
  },
  "language_info": {
   "name": "python"
  }
 },
 "cells": [
  {
   "cell_type": "code",
   "source": [
    "import pandas as pd\n",
    "import numpy as np\n",
    "import matplotlib.pyplot as plt\n",
    "from sklearn.naive_bayes import MultinomialNB\n",
    "from sklearn.feature_extraction.text import CountVectorizer\n",
    "from sklearn.metrics import accuracy_score, precision_score, recall_score, f1_score, confusion_matrix, ConfusionMatrixDisplay\n",
    "from sklearn.model_selection import train_test_split, cross_val_score"
   ],
   "metadata": {
    "id": "gpj38LyAWe-e",
    "executionInfo": {
     "status": "ok",
     "timestamp": 1724780538967,
     "user_tz": -120,
     "elapsed": 238,
     "user": {
      "displayName": "Eric Thomas",
      "userId": "14023923004756368365"
     }
    }
   },
   "execution_count": 201,
   "outputs": []
  },
  {
   "cell_type": "code",
   "execution_count": 202,
   "metadata": {
    "colab": {
     "base_uri": "https://localhost:8080/"
    },
    "id": "pNk9tE4nVZxE",
    "executionInfo": {
     "status": "ok",
     "timestamp": 1724780540715,
     "user_tz": -120,
     "elapsed": 1458,
     "user": {
      "displayName": "Eric Thomas",
      "userId": "14023923004756368365"
     }
    },
    "outputId": "7969dc87-4a12-4434-d200-31de68e111d4"
   },
   "outputs": [
    {
     "output_type": "stream",
     "name": "stdout",
     "text": [
      "Drive already mounted at /content/drive; to attempt to forcibly remount, call drive.mount(\"/content/drive\", force_remount=True).\n"
     ]
    }
   ],
   "source": [
    "from google.colab import drive\n",
    "drive.mount('/content/drive')"
   ]
  },
  {
   "cell_type": "markdown",
   "source": [
    "# Aufgabe: Ein Unternehmen möchte einen E-Mail-Spam-Filter entwickeln, der automatisch eingehende E-Mails als \"Spam\" oder \"Nicht-Spam\" klassifiziert. Ihre Aufgabe ist es, einen Naive Bayes-Algorithmus in Python zu implementieren, um dieses Problem zu lösen."
   ],
   "metadata": {
    "id": "4DeMqETo4HZl"
   }
  },
  {
   "cell_type": "markdown",
   "source": [
    "**Zuerst müssen die Daten eingelesen und vorbereitet werden**"
   ],
   "metadata": {
    "id": "BLjx4XKG4f1A"
   }
  },
  {
   "cell_type": "code",
   "source": [
    "# Daten einlesen und Vorbereiten\n",
    "df = pd.read_csv('/content/drive/MyDrive/Python_DataScience/ML/spam.csv', encoding='iso-8859-1') #.csv-Pfad einfügen\n",
    "print(df.describe(),\"\\n\")\n",
    "\n",
    "# \"ham\" und \"spam\" durch 0 und 1 ersetzen (ham = 0, spam = 1)\n",
    "df[\"v1\"] = df[\"v1\"].replace({\"ham\": 0, \"spam\": 1})\n",
    "\n",
    "count_spam = df[df[\"v1\"] == 1].shape[0] # shape gibt einen Tuple als Rückwert mit Anzahl der Zeilen und Spalten: [0] = Zeilenanzahl, [1] = Spaltenanzahl\n",
    "count_ham = df[df[\"v1\"] == 0].shape[0]  # Da uns hier nur die Anzahl der Zeilen (Werte) interessiert, geben wir hier .shape[0] an\n",
    "# print(df.head())\n",
    "print(\"Anzahl Spam-Mails:\", count_spam)\n",
    "print(\"Anzahl Nicht-Spam-Mails:\", count_ham, \"\\n\")\n"
   ],
   "metadata": {
    "colab": {
     "base_uri": "https://localhost:8080/"
    },
    "id": "UF4RY9AfwFTU",
    "executionInfo": {
     "status": "ok",
     "timestamp": 1724780686486,
     "user_tz": -120,
     "elapsed": 245,
     "user": {
      "displayName": "Eric Thomas",
      "userId": "14023923004756368365"
     }
    },
    "outputId": "8ac995ee-e59b-4473-be54-55dfea20c67a"
   },
   "execution_count": 211,
   "outputs": [
    {
     "output_type": "stream",
     "name": "stdout",
     "text": [
      "          v1                      v2  \\\n",
      "count   5572                    5572   \n",
      "unique     2                    5169   \n",
      "top      ham  Sorry, I'll call later   \n",
      "freq    4825                      30   \n",
      "\n",
      "                                               Unnamed: 2  \\\n",
      "count                                                  50   \n",
      "unique                                                 43   \n",
      "top      bt not his girlfrnd... G o o d n i g h t . . .@\"   \n",
      "freq                                                    3   \n",
      "\n",
      "                   Unnamed: 3 Unnamed: 4  \n",
      "count                      12          6  \n",
      "unique                     10          5  \n",
      "top      MK17 92H. 450Ppw 16\"    GNT:-)\"  \n",
      "freq                        2          2   \n",
      "\n",
      "Anzahl Spam-Mails: 747\n",
      "Anzahl Nicht-Spam-Mails: 4825 \n",
      "\n"
     ]
    }
   ]
  },
  {
   "cell_type": "markdown",
   "source": [
    "**Danach werden die benötigten Schritte in Funktionen geschrieben (Vektorisierung der Texte, Modelltraining, Modellanwendung, etc.**"
   ],
   "metadata": {
    "id": "onaiBBAx4k_T"
   }
  },
  {
   "cell_type": "code",
   "source": [
    "# Funktionen erstellen\n",
    "\n",
    "def vekto(input):\n",
    "    # Vektorisierung der Texte (Wörter zählen)\n",
    "    vectorizer = CountVectorizer()\n",
    "    X = vectorizer.fit_transform(input)\n",
    "    return X, vectorizer\n",
    "\n",
    "def model_train(X, y):\n",
    "    # Trainieren des Modells\n",
    "    model = MultinomialNB()\n",
    "    model.fit(X, y)\n",
    "    return model\n",
    "\n",
    "def forecast(model, X):\n",
    "    # Vorhersage\n",
    "    predictions = model.predict(X)\n",
    "    return predictions\n",
    "\n",
    "def metrics(y, predictions):\n",
    "    # Berechnung der Metriken\n",
    "    accuracy = accuracy_score(y, predictions)\n",
    "    precision = precision_score(y, predictions)\n",
    "    recall = recall_score(y, predictions)\n",
    "    f1 = f1_score(y, predictions)\n",
    "    return accuracy, precision, recall, f1\n",
    "\n",
    "def print_metrics(accuracy, precision, recall, f1):\n",
    "    # Ausgabe der Metriken\n",
    "    print(\"Accuracy:\", accuracy)\n",
    "    print(\"Precision:\", precision)\n",
    "    print(\"Recall:\", recall)\n",
    "    print(\"F1-Score:\", f1, \"\\n\")\n",
    "\n",
    "def confusion_matrix_plot(y, predictions):\n",
    "    # Konfusionsmatrix plotten\n",
    "    conf_matrix = confusion_matrix(y, predictions)\n",
    "    disp = ConfusionMatrixDisplay(confusion_matrix=conf_matrix, display_labels=[\"Nicht-Spam\", \"Spam\"])\n",
    "    disp.plot(cmap='GnBu')\n",
    "    disp.ax_.set_title(\"Konfusionsmatrix\")\n",
    "    disp.ax_.set_xlabel(\"Vorhergesagt\")\n",
    "    disp.ax_.set_ylabel(\"Tatsächlich\")\n",
    "    disp.figure_.tight_layout()\n",
    "    plt.show()\n",
    "\n",
    "def test_mail(test_mail, model, vectorizer):\n",
    "    # Benutzereingabe für eine neue E-Mail\n",
    "    new_email = test_mail\n",
    "\n",
    "    # Die neue Mail muss in eine Liste gepackt werden, denn der Vectorizer erwartet eine Liste\n",
    "    new_email = [new_email]\n",
    "\n",
    "    # Der gefittete Vectorizer wird als Argument übergeben und hier angewandt\n",
    "    new_X = vectorizer.transform(new_email)\n",
    "    # print(new_X)\n",
    "    new_prediction = model.predict(new_X)\n",
    "\n",
    "    print(\"Die Vorhersage für die neue E-Mail lautet: Die Nachricht ''\", test_mail, \"'' ist: Spam\" if new_prediction[0] == 1 else \"'' ist: kein Spam\")\n"
   ],
   "metadata": {
    "id": "NGCmkD5WwJYd",
    "executionInfo": {
     "status": "ok",
     "timestamp": 1724780540716,
     "user_tz": -120,
     "elapsed": 3,
     "user": {
      "displayName": "Eric Thomas",
      "userId": "14023923004756368365"
     }
    }
   },
   "execution_count": 204,
   "outputs": []
  },
  {
   "cell_type": "markdown",
   "source": [
    "Der Code wird nun ausgeführt"
   ],
   "metadata": {
    "id": "DaYMLrC74yhK"
   }
  },
  {
   "cell_type": "code",
   "source": [
    "def main():\n",
    "    # 1. Daten einlesen\n",
    "    emails = df[\"v2\"]\n",
    "    labels = df[\"v1\"]\n",
    "    y = labels\n",
    "\n",
    "    # 2. Vektorisierung\n",
    "    X, fitted_vecto = vekto(emails)\n",
    "\n",
    "    # 3. Aufteilung in Trainings- und Testdatensatz\n",
    "    X_train, X_test, y_train, y_test = train_test_split(X, y, test_size=0.3, random_state=42)\n",
    "\n",
    "    # 4. Modelltraining mit Trainingsdaten\n",
    "    model = model_train(X_train, y_train)\n",
    "\n",
    "    # 5. Vorhersage auf Testdaten\n",
    "    predictions = forecast(model, X_test)\n",
    "\n",
    "    # 6. Berechnung der Metriken auf Testdaten\n",
    "    accuracy, precision, recall, f1 = metrics(y_test, predictions)\n",
    "    print_metrics(accuracy, precision, recall, f1)\n",
    "\n",
    "    # 7. Konfusionsmatrix plotten\n",
    "    confusion_matrix_plot(y_test, predictions)\n",
    "\n",
    "    # 8. Kreuzvalidierung zur besseren Einschätzung der Modellleistung\n",
    "    print(\"\\nKreuzvalidierung:\")\n",
    "    cross_val_scores = cross_val_score(model, X, y, cv=8, scoring='accuracy')\n",
    "    print(\"Kreuzvalidierungs-Genauigkeiten:\", cross_val_scores)\n",
    "    print(\"Durchschnittliche Genauigkeit der Kreuzvalidierung:\", cross_val_scores.mean(), \"\\n\")\n",
    "\n",
    "    # 9. Benutzereingabe für eine neue E-Mail\n",
    "    check_mail = \"win a new iphone 15 pro, click here: www.win.to\"\n",
    "    test_mail(check_mail, model, fitted_vecto)\n",
    "\n",
    "# Programmstart\n",
    "if __name__ == \"__main__\":\n",
    "    main()"
   ],
   "metadata": {
    "colab": {
     "base_uri": "https://localhost:8080/",
     "height": 695
    },
    "id": "tK3mp-9avNfO",
    "executionInfo": {
     "status": "ok",
     "timestamp": 1724780541305,
     "user_tz": -120,
     "elapsed": 592,
     "user": {
      "displayName": "Eric Thomas",
      "userId": "14023923004756368365"
     }
    },
    "outputId": "1a7cba60-5858-4320-c0c4-221da85b900f"
   },
   "execution_count": 205,
   "outputs": [
    {
     "output_type": "stream",
     "name": "stdout",
     "text": [
      "Accuracy: 0.9784688995215312\n",
      "Precision: 0.9178082191780822\n",
      "Recall: 0.9178082191780822\n",
      "F1-Score: 0.9178082191780822 \n",
      "\n"
     ]
    },
    {
     "output_type": "display_data",
     "data": {
      "text/plain": [
       "<Figure size 640x480 with 2 Axes>"
      ],
      "image/png": "[encoded data removed]"
     },
     "metadata": {}
    },
    {
     "output_type": "stream",
     "name": "stdout",
     "text": [
      "\n",
      "Kreuzvalidierung:\n",
      "Kreuzvalidierungs-Genauigkeiten: [0.98708752 0.98134864 0.98134864 0.9784792  0.97701149 0.98275862\n",
      " 0.97126437 0.98850575]\n",
      "Durchschnittliche Genauigkeit der Kreuzvalidierung: 0.980975527300912 \n",
      "\n",
      "Die Vorhersage für die neue E-Mail lautet: Die Nachricht '' win a new iphone 15 pro, click here: www.win.to '' ist: Spam\n"
     ]
    }
   ]
  }
 ]
}
